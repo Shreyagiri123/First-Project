{
  "nbformat": 4,
  "nbformat_minor": 0,
  "metadata": {
    "colab": {
      "provenance": [],
      "authorship_tag": "ABX9TyOIHJNE3iCNfkWNf40Uhm34",
      "include_colab_link": true
    },
    "kernelspec": {
      "name": "python3",
      "display_name": "Python 3"
    },
    "language_info": {
      "name": "python"
    }
  },
  "cells": [
    {
      "cell_type": "markdown",
      "metadata": {
        "id": "view-in-github",
        "colab_type": "text"
      },
      "source": [
        "<a href=\"https://colab.research.google.com/github/Shreyagiri123/First-Project/blob/main/Untitled4.ipynb\" target=\"_parent\"><img src=\"https://colab.research.google.com/assets/colab-badge.svg\" alt=\"Open In Colab\"/></a>"
      ]
    },
    {
      "cell_type": "code",
      "execution_count": 1,
      "metadata": {
        "colab": {
          "base_uri": "https://localhost:8080/"
        },
        "id": "dyeX_uXF0X6i",
        "outputId": "8c506f60-342f-458b-8f01-ad45f1eeb666"
      },
      "outputs": [
        {
          "output_type": "stream",
          "name": "stdout",
          "text": [
            "(-12, -3, 2, 6, 7)\n",
            "(-7, -4, -2, 6, 7)\n",
            "(-9, 2, 7)\n",
            "(-8, -4, 1, 11)\n",
            "(-12, -2, 1, 6, 7)\n",
            "(-7, -3, 1, 9)\n",
            "(-8, -5, -4, 2, 6, 9)\n",
            "(-9, -2, 2, 9)\n",
            "(-9, -3, 1, 2, 9)\n",
            "(-7, -2, 9)\n",
            "(-12, 1, 11)\n",
            "(-6, -4, 1, 9)\n",
            "(-9, -4, 2, 11)\n",
            "(-12, -4, 7, 9)\n",
            "(-6, -5, 2, 9)\n",
            "(-6, -5, 2, 3, 6)\n",
            "(-9, -7, 7, 9)\n",
            "(-6, -5, -3, 1, 2, 11)\n",
            "(-12, -3, 6, 9)\n",
            "(-6, -3, 9)\n",
            "(-5, -2, 7)\n",
            "(-9, -6, -2, 6, 11)\n",
            "(-9, -6, 2, 6, 7)\n",
            "(-7, -5, -4, 7, 9)\n",
            "(-7, -4, -3, 1, 2, 11)\n",
            "(-12, -8, 9, 11)\n",
            "\n",
            "Total Sets:  26\n"
          ]
        }
      ],
      "source": [
        "import random as r\n",
        "\n",
        "Set = [-12, -3, -6, 7, 2, -2, 6, 3, 9, -7, -5, -8, 1, 11, -9, -4]\n",
        "ResultList = set()\n",
        "Iterations = 1000\n",
        "\n",
        "for i in range(Iterations):\n",
        "    size = r.randint(3, 6)\n",
        "    Chromosome = r.sample(Set, size)\n",
        "    Chromosome.sort()\n",
        "    if sum(Chromosome) == 0:\n",
        "        ResultList.add(tuple(Chromosome))\n",
        "\n",
        "for r in ResultList:\n",
        "    print(r)\n",
        "\n",
        "print(\"\\nTotal Sets: \", len(ResultList))\n"
      ]
    },
    {
      "cell_type": "code",
      "source": [
        "import random as r\n",
        "\n",
        "Set = set([-12, -3, -6, 7, 2, -2, 6, 3, 9, -7, -5, -8, 1, 11, -9, -4])\n",
        "SetLB = 3\n",
        "SetUB = 6\n",
        "ResultList = set()\n",
        "Iterations = 1000\n",
        "\n",
        "for i in range(Iterations):\n",
        "    SetSize = r.randint(SetLB, SetUB)\n",
        "    Chromosome = r.sample(list(Set), SetSize)\n",
        "    Chromosome.sort()\n",
        "    if sum(Chromosome) == 0:\n",
        "        ResultList.add(tuple(Chromosome))\n",
        "\n",
        "for item in ResultList:\n",
        "    print(item)\n",
        "\n",
        "print(\"\\nTotal Sets:\", len(ResultList))\n"
      ],
      "metadata": {
        "colab": {
          "base_uri": "https://localhost:8080/"
        },
        "id": "zOEfCGWS3LQU",
        "outputId": "edae4743-3d6e-43ba-cb2e-d32e0610b4ca"
      },
      "execution_count": 5,
      "outputs": [
        {
          "output_type": "stream",
          "name": "stdout",
          "text": [
            "(-12, -5, 6, 11)\n",
            "(-12, -3, -2, 2, 6, 9)\n",
            "(-7, -2, 3, 6)\n",
            "(-5, 2, 3)\n",
            "(-9, -7, -4, 3, 6, 11)\n",
            "(-8, -5, -3, 2, 3, 11)\n",
            "(-8, -2, 3, 7)\n",
            "(-6, -4, 1, 2, 7)\n",
            "(-8, 1, 7)\n",
            "(-8, -2, 1, 3, 6)\n",
            "(-9, -2, 11)\n",
            "(-6, -5, -3, 1, 2, 11)\n",
            "(-6, -3, 9)\n",
            "(-5, -3, -2, 1, 9)\n",
            "(-12, -8, 3, 6, 11)\n",
            "(-8, -5, -3, 7, 9)\n",
            "(-8, -3, -2, 2, 11)\n",
            "(-9, -5, -4, 3, 6, 9)\n",
            "(-8, -7, 6, 9)\n",
            "(-12, -4, 3, 6, 7)\n",
            "(-9, -5, -3, 2, 6, 9)\n",
            "(-7, -6, 2, 11)\n",
            "(-12, -4, -2, 7, 11)\n",
            "(-5, -4, 9)\n",
            "(-8, -4, 1, 2, 3, 6)\n",
            "\n",
            "Total Sets: 25\n"
          ]
        }
      ]
    }
  ]
}